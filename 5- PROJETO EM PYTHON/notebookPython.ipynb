{
 "cells": [
  {
   "cell_type": "code",
   "execution_count": 9,
   "metadata": {},
   "outputs": [],
   "source": [
    "import psycopg2\n",
    "import pandas as pd\n",
    "import numpy as np\n",
    "from sqlalchemy import create_engine\n",
    "import matplotlib.pyplot as plt\n",
    "\n",
    "\n",
    "\n"
   ]
  },
  {
   "cell_type": "code",
   "execution_count": 10,
   "metadata": {},
   "outputs": [],
   "source": [
    "# Configurações de conexão com o banco de dados\n",
    "DB_NAME = 'v4_financeiro'\n",
    "USER = 'postgres'\n",
    "PASSWORD = '1234'\n",
    "HOST = 'localhost'\n",
    "PORT = '5432'"
   ]
  },
  {
   "cell_type": "code",
   "execution_count": 11,
   "metadata": {},
   "outputs": [],
   "source": [
    "# Conectando ao banco de dados\n",
    "conn = psycopg2.connect(\n",
    "    dbname=DB_NAME,\n",
    "    user=USER,\n",
    "    password=PASSWORD,\n",
    "    host=HOST,\n",
    "    port=PORT\n",
    ")\n"
   ]
  },
  {
   "cell_type": "code",
   "execution_count": 4,
   "metadata": {},
   "outputs": [],
   "source": [
    "cursor = conn.cursor()"
   ]
  },
  {
   "cell_type": "code",
   "execution_count": 16,
   "metadata": {},
   "outputs": [],
   "source": [
    "# Criar um cursor para executar consultas SQL\n",
    "cursor = conn.cursor()\n",
    "\n",
    "try:\n",
    "    # Executar ROLLBACK para encerrar qualquer transação anterior\n",
    "    conn.rollback()\n",
    "\n",
    "    # Executar a consulta SQL para obter o valor total de empenho por categoria, incluindo a relação com a tabela de dimensão \"dim_categoria\"\n",
    "    cursor.execute(\"\"\"\n",
    "        SELECT dc.descricao_item_categoria, SUM(fe.valor_empenho) AS valor_total_empenho\n",
    "        FROM data_warehouse.fato_empenho fe\n",
    "        JOIN data_warehouse.dim_categoria dc ON fe.codigo_item_categoria = dc.codigo_item_categoria\n",
    "        GROUP BY dc.descricao_item_categoria;\n",
    "    \"\"\")\n",
    "\n",
    "    # Recuperar os resultados da consulta\n",
    "    resultados = cursor.fetchall()\n",
    "\n",
    "except Exception as e:\n",
    "    # Imprimir o erro ocorrido\n",
    "    print(\"Ocorreu um erro durante a execução da consulta:\", e)\n"
   ]
  },
  {
   "cell_type": "code",
   "execution_count": 23,
   "metadata": {},
   "outputs": [],
   "source": [
    "# Fechar a conexão com o banco de dados\n",
    "cursor.close()\n",
    "conn.close()"
   ]
  },
  {
   "cell_type": "code",
   "execution_count": 17,
   "metadata": {},
   "outputs": [],
   "source": [
    "# Extrair as categorias e valores dos resultados\n",
    "categorias = [row[0] for row in resultados]\n",
    "valores = [row[1] for row in resultados]"
   ]
  },
  {
   "cell_type": "code",
   "execution_count": null,
   "metadata": {},
   "outputs": [],
   "source": [
    "# Criar o gráfico de barras\n",
    "plt.bar(categorias, valores)\n"
   ]
  },
  {
   "cell_type": "code",
   "execution_count": null,
   "metadata": {},
   "outputs": [],
   "source": [
    "# Configurar o título e rótulos dos eixos\n",
    "plt.title(\"Valor Total de Empenho por Categoria\")\n",
    "plt.xlabel(\"Categoria\")\n",
    "plt.ylabel(\"Valor Total de Empenho\")"
   ]
  },
  {
   "cell_type": "code",
   "execution_count": 25,
   "metadata": {},
   "outputs": [],
   "source": [
    "# Exibir o gráfico\n",
    "plt.show()"
   ]
  },
  {
   "attachments": {},
   "cell_type": "markdown",
   "metadata": {},
   "source": [
    "Foi criado apenas um exemplo, sabemos que não está sendo feita um consulta muito efetiva, mais apenas para mostrar que é possivel plotar um gráfico usando uma query do SQL."
   ]
  }
 ],
 "metadata": {
  "kernelspec": {
   "display_name": "projeto_digitall",
   "language": "python",
   "name": "python3"
  },
  "language_info": {
   "codemirror_mode": {
    "name": "ipython",
    "version": 3
   },
   "file_extension": ".py",
   "mimetype": "text/x-python",
   "name": "python",
   "nbconvert_exporter": "python",
   "pygments_lexer": "ipython3",
   "version": "3.10.7"
  },
  "orig_nbformat": 4
 },
 "nbformat": 4,
 "nbformat_minor": 2
}
