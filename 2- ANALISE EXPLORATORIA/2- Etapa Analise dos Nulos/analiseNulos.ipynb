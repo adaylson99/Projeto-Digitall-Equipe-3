{
 "cells": [
  {
   "attachments": {},
   "cell_type": "markdown",
   "metadata": {},
   "source": [
    "# **ANALISE DE NULOS**"
   ]
  },
  {
   "attachments": {},
   "cell_type": "markdown",
   "metadata": {},
   "source": [
    "**Utilizando a Consulta Dinâmica para verificar a quantidade de NULOS em cada coluna.**"
   ]
  },
  {
   "cell_type": "code",
   "execution_count": null,
   "metadata": {
    "vscode": {
     "languageId": "sql"
    }
   },
   "outputs": [],
   "source": [
    "DO\n",
    "$$\n",
    "DECLARE\n",
    "    coluna record;\n",
    "    consulta_sql text;\n",
    "    resultado integer;\n",
    "BEGIN\n",
    "    FOR coluna IN (\n",
    "        SELECT column_name\n",
    "        FROM information_schema.columns\n",
    "        WHERE table_name = 'execucao_financeira_despesa'\n",
    "    )\n",
    "    LOOP\n",
    "        consulta_sql := 'SELECT COUNT(*) AS ' || coluna.column_name || '_nulos FROM execucao_financeira_despesa WHERE ' || coluna.column_name || ' IS NULL';\n",
    "        EXECUTE consulta_sql INTO resultado;\n",
    "        RAISE NOTICE 'Coluna %: % nulos', coluna.column_name, resultado;\n",
    "    END LOOP;\n",
    "END;\n",
    "$$"
   ]
  },
  {
   "attachments": {},
   "cell_type": "markdown",
   "metadata": {},
   "source": [
    "> Retorno na mensagem fica assim:"
   ]
  },
  {
   "attachments": {},
   "cell_type": "markdown",
   "metadata": {},
   "source": [
    "--NOTICE:  Coluna vlr_empenho: 0 nulos\n",
    "\n",
    "--NOTICE:  Coluna vlr_liquidado: 2025116 nulos\n",
    "\n",
    "--NOTICE:  Coluna valor_pago: 109765 nulos\n",
    "\n",
    "--NOTICE:  Coluna vlr_resto_pagar: 0 nulos\n",
    "\n",
    "--NOTICE:  Coluna dth_empenho: 0 nulos\n",
    "\n",
    "--NOTICE:  Coluna dth_pagamento: 109765 nulos\n",
    "\n",
    "--NOTICE:  Coluna dth_liquidacao: 2025116 nulos\n",
    "\n",
    "--NOTICE:  Coluna dth_processamento: 0 nulos\n",
    "\n",
    "--NOTICE:  Coluna id: 0 nulos\n",
    "\n",
    "--NOTICE:  Coluna cod_funcao: 0 nulos\n",
    "\n",
    "--NOTICE:  Coluna dsc_funcao: 0 nulos\n",
    "\n",
    "--NOTICE:  Coluna cod_item: 287982 nulos\n",
    "\n",
    "--NOTICE:  Coluna dsc_item: 287982 nulos\n",
    "\n",
    "--NOTICE:  Coluna cod_item_elemento: 1366 nulos\n",
    "\n",
    "--NOTICE:  Coluna dsc_item_elemento: 1366 nulos\n",
    "\n",
    "--NOTICE:  Coluna cod_item_categoria: 0 nulos\n",
    "\n",
    "--NOTICE:  Coluna dsc_item_categoria: 0 nulos\n",
    "\n",
    "--NOTICE:  Coluna cod_item_grupo: 1134605 nulos\n",
    "\n",
    "--NOTICE:  Coluna dsc_item_grupo: 1134605 nulos\n",
    "\n",
    "--NOTICE:  Coluna dsc_modalidade_licitacao: 401656 nulos\n",
    "\n",
    "--NOTICE:  Coluna cod_item_modalidade: 0 nulos\n",
    "\n",
    "--NOTICE:  Coluna dsc_item_modalidade: 0 nulos\n",
    "\n",
    "--NOTICE:  Coluna cod_programa: 0 nulos\n",
    "\n",
    "--NOTICE:  Coluna dsc_programa: 0 nulos\n",
    "\n",
    "--NOTICE:  Coluna cod_subfuncao: 0 nulos\n",
    "\n",
    "--NOTICE:  Coluna dsc_subfuncao: 0 nulos\n",
    "\n",
    "--NOTICE:  Coluna num_sic: 855132 nulos\n",
    "\n",
    "--NOTICE:  Coluna cod_np: 109765 nulos\n",
    "\n",
    "--NOTICE:  Coluna num_ano_np: 109765 nulos\n",
    "\n",
    "--NOTICE:  Coluna num_ano: 0 nulos\n",
    "\n",
    "--NOTICE:  Coluna cod_ne: 0 nulos\n",
    "\n",
    "--NOTICE:  Coluna codigo_orgao: 0 nulos\n",
    "\n",
    "--NOTICE:  Coluna dsc_orgao: 116 nulos\n",
    "\n",
    "--NOTICE:  Coluna cod_credor: 0 nulos\n",
    "\n",
    "--NOTICE:  Coluna dsc_nome_credor: 0 nulos\n",
    "\n",
    "--NOTICE:  Coluna cod_fonte: 2775 nulos\n",
    "\n",
    "--NOTICE:  Coluna dsc_fonte: 2775 nulos\n",
    "\n",
    "---Query returned successfully in 42 secs 899 msec."
   ]
  },
  {
   "attachments": {},
   "cell_type": "markdown",
   "metadata": {},
   "source": [
    "**OBSERVAÇÃO**\n",
    "\n",
    "Usar consultas dinâmicas em um banco de dados pode ser útil em certas situações, mas também apresenta desafios e preocupações que devem ser considerados, principalmente relaciona a Segurança.\n",
    "\n",
    "No caso desse projeto, por se tratar de um banco apenas para análise, a consulta dinâmica otimiza o tempo e agilidade nos resultados.\n",
    "\n",
    "Portanto como parte do projeto, criamos também uma consulta estática para analisar a quantidade de nulos nas colunas, conforme pode ser verificado no ponto 2 dessa etapa.\n",
    "\n",
    "Informando que a consulta dinâmica obtemos como exemplo em grupos da internet, como não vimos essa matéria no curso, não estruturamos a consulta sozinhos; Vimos a possibilidade e aplicamos.\n",
    "\n",
    "\n",
    "\n",
    "\n"
   ]
  },
  {
   "attachments": {},
   "cell_type": "markdown",
   "metadata": {},
   "source": [
    "\n",
    "\n",
    "**Contando a quantidade de valores NULOS em cada coluna, utilizando o SELECT COUNT**"
   ]
  },
  {
   "attachments": {},
   "cell_type": "markdown",
   "metadata": {},
   "source": [
    "Conforme informado no ponto 1, as consultas estáticas são mais seguras que as dinâmicas.\n",
    "Como se trata de uma análise de um banco de dados desconhecido, estamos analisando os Nulos coluna, por coluna, para verificarmos a melhor forma de tratarmos as informações.\n",
    "\n",
    "Aqui usamos a função COUNT(): É a função agregada que conta o número de linhas. O asterisco () indica que todas as linhas são contadas.\n",
    "Usamos o AS para mudar o nome da coluna na consulta.\n",
    "FROM tabela: É a tabela da qual você deseja contar as linhas.\n",
    "WHERE condição: É uma cláusula opcional que especifica uma condição para filtrar as linhas antes de contar. Nesse caso estamos contando os NULOS, \n",
    "então passamos a condição IS NULL."
   ]
  },
  {
   "attachments": {},
   "cell_type": "markdown",
   "metadata": {},
   "source": [
    "> Coluna num_ano------- RESULTADO SEM VALORES NULOS"
   ]
  },
  {
   "cell_type": "code",
   "execution_count": null,
   "metadata": {
    "vscode": {
     "languageId": "sql"
    }
   },
   "outputs": [],
   "source": [
    "SELECT COUNT(*) AS total_nulos\n",
    "FROM execucao_financeira_despesa\n",
    "WHERE num_ano IS NULL;"
   ]
  },
  {
   "attachments": {},
   "cell_type": "markdown",
   "metadata": {},
   "source": [
    "> Coluna cod_ne------- RESULTADO SEM VALORES NULOS"
   ]
  },
  {
   "cell_type": "code",
   "execution_count": null,
   "metadata": {
    "vscode": {
     "languageId": "sql"
    }
   },
   "outputs": [],
   "source": [
    "SELECT COUNT(*) AS total_nulos\n",
    "FROM execucao_financeira_despesa\n",
    "WHERE cod_ne IS NULL;"
   ]
  },
  {
   "attachments": {},
   "cell_type": "markdown",
   "metadata": {},
   "source": [
    "> Coluna codigo_orgao------- RESULTADO SEM VALORES NULOS"
   ]
  },
  {
   "cell_type": "code",
   "execution_count": null,
   "metadata": {
    "vscode": {
     "languageId": "sql"
    }
   },
   "outputs": [],
   "source": [
    "SELECT COUNT(*) AS total_nulos\n",
    "FROM execucao_financeira_despesa\n",
    "WHERE codigo_orgao IS NULL;"
   ]
  },
  {
   "attachments": {},
   "cell_type": "markdown",
   "metadata": {},
   "source": [
    "> Coluna dsc_orgao------- TEM 116 VALORES NULOS"
   ]
  },
  {
   "cell_type": "code",
   "execution_count": null,
   "metadata": {
    "vscode": {
     "languageId": "sql"
    }
   },
   "outputs": [],
   "source": [
    "SELECT COUNT(*) AS total_nulos\n",
    "FROM execucao_financeira_despesa\n",
    "WHERE dsc_orgao IS NULL;"
   ]
  },
  {
   "attachments": {},
   "cell_type": "markdown",
   "metadata": {},
   "source": [
    "> Coluna cod_credor------- RESULTADO SEM VALORES NULOS"
   ]
  },
  {
   "cell_type": "code",
   "execution_count": null,
   "metadata": {
    "vscode": {
     "languageId": "sql"
    }
   },
   "outputs": [],
   "source": [
    "SELECT COUNT(*) AS total_nulos\n",
    "FROM execucao_financeira_despesa\n",
    "WHERE cod_credor IS NULL;"
   ]
  },
  {
   "attachments": {},
   "cell_type": "markdown",
   "metadata": {},
   "source": [
    "> Coluna dsc_nome_credor------- RESULTADO SEM VALORES NULOS"
   ]
  },
  {
   "cell_type": "code",
   "execution_count": null,
   "metadata": {
    "vscode": {
     "languageId": "sql"
    }
   },
   "outputs": [],
   "source": [
    "SELECT COUNT(*) AS total_nulos\n",
    "FROM execucao_financeira_despesa\n",
    "WHERE dsc_nome_credor IS NULL;"
   ]
  },
  {
   "attachments": {},
   "cell_type": "markdown",
   "metadata": {},
   "source": [
    "> Coluna cod_fonte------- TEM 2775 VALORES NULOS"
   ]
  },
  {
   "cell_type": "code",
   "execution_count": null,
   "metadata": {
    "vscode": {
     "languageId": "sql"
    }
   },
   "outputs": [],
   "source": [
    "SELECT COUNT(*) AS total_nulos\n",
    "FROM execucao_financeira_despesa\n",
    "WHERE cod_fonte IS NULL;"
   ]
  },
  {
   "attachments": {},
   "cell_type": "markdown",
   "metadata": {},
   "source": [
    "> Coluna dsc_fonte------- TEM 2775 VALORES NULOS"
   ]
  },
  {
   "cell_type": "code",
   "execution_count": null,
   "metadata": {
    "vscode": {
     "languageId": "sql"
    }
   },
   "outputs": [],
   "source": [
    "SELECT COUNT(*) AS total_nulos\n",
    "FROM execucao_financeira_despesa\n",
    "WHERE dsc_fonte IS NULL;"
   ]
  },
  {
   "attachments": {},
   "cell_type": "markdown",
   "metadata": {},
   "source": [
    "> Coluna cod_funcao-------RESULTADO SEM VALORES NULOS"
   ]
  },
  {
   "cell_type": "code",
   "execution_count": null,
   "metadata": {
    "vscode": {
     "languageId": "sql"
    }
   },
   "outputs": [],
   "source": [
    "SELECT COUNT(*) AS total_nulos\n",
    "FROM execucao_financeira_despesa\n",
    "WHERE cod_funcao IS NULL;"
   ]
  },
  {
   "attachments": {},
   "cell_type": "markdown",
   "metadata": {},
   "source": [
    "> Coluna dsc_funcao-------RESULTADO SEM VALORES NULOS"
   ]
  },
  {
   "cell_type": "code",
   "execution_count": null,
   "metadata": {
    "vscode": {
     "languageId": "sql"
    }
   },
   "outputs": [],
   "source": [
    "SELECT COUNT(*) AS total_nulos\n",
    "FROM execucao_financeira_despesa\n",
    "WHERE dsc_funcao IS NULL;"
   ]
  },
  {
   "attachments": {},
   "cell_type": "markdown",
   "metadata": {},
   "source": [
    "> Coluna cod_item------- TEM 287982 VALORES NULOS"
   ]
  },
  {
   "cell_type": "code",
   "execution_count": null,
   "metadata": {
    "vscode": {
     "languageId": "sql"
    }
   },
   "outputs": [],
   "source": [
    "SELECT COUNT(*) AS total_nulos\n",
    "FROM execucao_financeira_despesa\n",
    "WHERE cod_item_elemento IS NULL;"
   ]
  },
  {
   "attachments": {},
   "cell_type": "markdown",
   "metadata": {},
   "source": [
    "> Coluna dsc_item------- TEM 287982 VALORES NULOS"
   ]
  },
  {
   "cell_type": "code",
   "execution_count": null,
   "metadata": {
    "vscode": {
     "languageId": "sql"
    }
   },
   "outputs": [],
   "source": [
    "SELECT COUNT(*) AS total_nulos\n",
    "FROM execucao_financeira_despesa\n",
    "WHERE dsc_item_elemento IS NULL;"
   ]
  },
  {
   "attachments": {},
   "cell_type": "markdown",
   "metadata": {},
   "source": [
    "> Coluna cod_item_elemento-------TEM 1366 VALORES NULOS"
   ]
  },
  {
   "cell_type": "code",
   "execution_count": null,
   "metadata": {
    "vscode": {
     "languageId": "sql"
    }
   },
   "outputs": [],
   "source": [
    "SELECT COUNT(*) AS total_nulos\n",
    "FROM execucao_financeira_despesa\n",
    "WHERE cod_item_elemento IS NULL;"
   ]
  },
  {
   "attachments": {},
   "cell_type": "markdown",
   "metadata": {},
   "source": [
    "> Coluna dsc_item_elemento-------TEM 1366 VALORES NULOS"
   ]
  },
  {
   "cell_type": "code",
   "execution_count": null,
   "metadata": {
    "vscode": {
     "languageId": "sql"
    }
   },
   "outputs": [],
   "source": [
    "SELECT COUNT(*) AS total_nulos\n",
    "FROM execucao_financeira_despesa\n",
    "WHERE dsc_item_elemento IS NULL;"
   ]
  },
  {
   "attachments": {},
   "cell_type": "markdown",
   "metadata": {},
   "source": [
    "> Coluna cod_item_categoria-------RESULTADO SEM VALORES NULOS"
   ]
  },
  {
   "cell_type": "code",
   "execution_count": null,
   "metadata": {
    "vscode": {
     "languageId": "sql"
    }
   },
   "outputs": [],
   "source": [
    "SELECT COUNT(*) AS total_nulos\n",
    "FROM execucao_financeira_despesa\n",
    "WHERE cod_item_categoria IS NULL;"
   ]
  },
  {
   "attachments": {},
   "cell_type": "markdown",
   "metadata": {},
   "source": [
    "> Coluna dsc_item_categoria-------RESULTADO SEM VALORES NULOS"
   ]
  },
  {
   "cell_type": "code",
   "execution_count": null,
   "metadata": {
    "vscode": {
     "languageId": "sql"
    }
   },
   "outputs": [],
   "source": [
    "SELECT COUNT(*) AS total_nulos\n",
    "FROM execucao_financeira_despesa\n",
    "WHERE dsc_item_categoria IS NULL;"
   ]
  },
  {
   "attachments": {},
   "cell_type": "markdown",
   "metadata": {},
   "source": [
    "> Coluna cod_item_grupo------- TEM 1134605 VALORES NULOS"
   ]
  },
  {
   "cell_type": "code",
   "execution_count": null,
   "metadata": {
    "vscode": {
     "languageId": "sql"
    }
   },
   "outputs": [],
   "source": [
    "SELECT COUNT(*) AS total_nulos\n",
    "FROM execucao_financeira_despesa\n",
    "WHERE cod_item_grupo IS NULL;"
   ]
  },
  {
   "attachments": {},
   "cell_type": "markdown",
   "metadata": {},
   "source": [
    "> Coluna dsc_item_grupo------- TEM 1134605 VALORES NULOS"
   ]
  },
  {
   "cell_type": "code",
   "execution_count": null,
   "metadata": {
    "vscode": {
     "languageId": "sql"
    }
   },
   "outputs": [],
   "source": [
    "SELECT COUNT(*) AS total_nulos\n",
    "FROM execucao_financeira_despesa\n",
    "WHERE dsc_item_grupo IS NULL;"
   ]
  },
  {
   "attachments": {},
   "cell_type": "markdown",
   "metadata": {},
   "source": [
    "> Coluna dsc_modalidade_licitacao------- TEM 401656 VALORES NULOS"
   ]
  },
  {
   "cell_type": "code",
   "execution_count": null,
   "metadata": {
    "vscode": {
     "languageId": "sql"
    }
   },
   "outputs": [],
   "source": [
    "SELECT COUNT(*) AS total_nulos\n",
    "FROM execucao_financeira_despesa\n",
    "WHERE dsc_modalidade_licitacao IS NULL;"
   ]
  },
  {
   "attachments": {},
   "cell_type": "markdown",
   "metadata": {},
   "source": [
    "> Coluna cod_item_modalidade-------RESULTADO SEM VALORES NULOS"
   ]
  },
  {
   "cell_type": "code",
   "execution_count": null,
   "metadata": {
    "vscode": {
     "languageId": "sql"
    }
   },
   "outputs": [],
   "source": [
    "SELECT COUNT(*) AS total_nulos\n",
    "FROM execucao_financeira_despesa\n",
    "WHERE cod_item_modalidade IS NULL;"
   ]
  },
  {
   "attachments": {},
   "cell_type": "markdown",
   "metadata": {},
   "source": [
    "> Coluna dsc_item_modalidade-------RESULTADO SEM VALORES NULOS"
   ]
  },
  {
   "cell_type": "code",
   "execution_count": null,
   "metadata": {
    "vscode": {
     "languageId": "sql"
    }
   },
   "outputs": [],
   "source": [
    "SELECT COUNT(*) AS total_nulos\n",
    "FROM execucao_financeira_despesa\n",
    "WHERE dsc_item_modalidade IS NULL;"
   ]
  },
  {
   "attachments": {},
   "cell_type": "markdown",
   "metadata": {},
   "source": [
    "> Coluna cod_programa-------RESULTADO SEM VALORES NULOS"
   ]
  },
  {
   "cell_type": "code",
   "execution_count": null,
   "metadata": {
    "vscode": {
     "languageId": "sql"
    }
   },
   "outputs": [],
   "source": [
    "SELECT COUNT(*) AS total_nulos\n",
    "FROM execucao_financeira_despesa\n",
    "WHERE cod_programa IS NULL;"
   ]
  },
  {
   "attachments": {},
   "cell_type": "markdown",
   "metadata": {},
   "source": [
    "> Coluna dsc_programa-------RESULTADO SEM VALORES NULOS"
   ]
  },
  {
   "cell_type": "code",
   "execution_count": null,
   "metadata": {
    "vscode": {
     "languageId": "sql"
    }
   },
   "outputs": [],
   "source": [
    "SELECT COUNT(*) AS total_nulos\n",
    "FROM execucao_financeira_despesa\n",
    "WHERE dsc_programa IS NULL;"
   ]
  },
  {
   "attachments": {},
   "cell_type": "markdown",
   "metadata": {},
   "source": [
    "> Coluna cod_subfuncao-------RESULTADO SEM VALORES NULOS"
   ]
  },
  {
   "cell_type": "code",
   "execution_count": null,
   "metadata": {
    "vscode": {
     "languageId": "sql"
    }
   },
   "outputs": [],
   "source": [
    "SELECT COUNT(*) AS total_nulos\n",
    "FROM execucao_financeira_despesa\n",
    "WHERE cod_subfuncao IS NULL;"
   ]
  },
  {
   "attachments": {},
   "cell_type": "markdown",
   "metadata": {},
   "source": [
    "> Coluna dsc_sub_funcao-------RESULTADO SEM VALORES NULOS"
   ]
  },
  {
   "cell_type": "code",
   "execution_count": null,
   "metadata": {
    "vscode": {
     "languageId": "sql"
    }
   },
   "outputs": [],
   "source": [
    "SELECT COUNT(*) AS total_nulos\n",
    "FROM execucao_financeira_despesa\n",
    "WHERE dsc_subfuncao IS NULL;"
   ]
  },
  {
   "attachments": {},
   "cell_type": "markdown",
   "metadata": {},
   "source": [
    "> Coluna num_sic------- TEM 855132 VALORES NULOS"
   ]
  },
  {
   "cell_type": "code",
   "execution_count": null,
   "metadata": {
    "vscode": {
     "languageId": "sql"
    }
   },
   "outputs": [],
   "source": [
    "SELECT COUNT(*) AS total_nulos\n",
    "FROM execucao_financeira_despesa\n",
    "WHERE num_sic IS NULL;"
   ]
  },
  {
   "attachments": {},
   "cell_type": "markdown",
   "metadata": {},
   "source": [
    "> Coluna cod_np------- TEM 109765 VALORES NULOS"
   ]
  },
  {
   "cell_type": "code",
   "execution_count": null,
   "metadata": {
    "vscode": {
     "languageId": "sql"
    }
   },
   "outputs": [],
   "source": [
    "SELECT COUNT(*) AS total_nulos\n",
    "FROM execucao_financeira_despesa\n",
    "WHERE cod_np IS NULL;"
   ]
  },
  {
   "attachments": {},
   "cell_type": "markdown",
   "metadata": {},
   "source": [
    "> Coluna vlr_empenho-------RESULTADO SEM VALORES NULOS"
   ]
  },
  {
   "cell_type": "code",
   "execution_count": null,
   "metadata": {
    "vscode": {
     "languageId": "sql"
    }
   },
   "outputs": [],
   "source": [
    "SELECT COUNT(*) AS total_nulos\n",
    "FROM execucao_financeira_despesa\n",
    "WHERE vlr_empenho IS NULL;"
   ]
  },
  {
   "attachments": {},
   "cell_type": "markdown",
   "metadata": {},
   "source": [
    "> Coluna vlr_liquidado------- TEM 2025116 VALORES NULOS - SEM VALORES NESSA COLUNA, TOTAL DE NULOS MESMA QUANTIDADE DE LINHA"
   ]
  },
  {
   "cell_type": "code",
   "execution_count": null,
   "metadata": {
    "vscode": {
     "languageId": "sql"
    }
   },
   "outputs": [],
   "source": [
    "SELECT COUNT(*) AS total_nulos\n",
    "FROM execucao_financeira_despesa\n",
    "WHERE vlr_liquidado IS NULL;"
   ]
  },
  {
   "attachments": {},
   "cell_type": "markdown",
   "metadata": {},
   "source": [
    "> Coluna valor_pago------- TEM 109765 VALORES NULOS"
   ]
  },
  {
   "cell_type": "code",
   "execution_count": null,
   "metadata": {
    "vscode": {
     "languageId": "sql"
    }
   },
   "outputs": [],
   "source": [
    "SELECT COUNT(*) AS total_nulos\n",
    "FROM execucao_financeira_despesa\n",
    "WHERE valor_pago IS NULL;"
   ]
  },
  {
   "attachments": {},
   "cell_type": "markdown",
   "metadata": {},
   "source": [
    "> Coluna vlr_resto_pagar-------RESULTADO SEM VALORES NULOS"
   ]
  },
  {
   "cell_type": "code",
   "execution_count": null,
   "metadata": {
    "vscode": {
     "languageId": "sql"
    }
   },
   "outputs": [],
   "source": [
    "SELECT COUNT(*) AS total_nulos\n",
    "FROM execucao_financeira_despesa\n",
    "WHERE vlr_resto_pagar IS NULL;"
   ]
  },
  {
   "attachments": {},
   "cell_type": "markdown",
   "metadata": {},
   "source": [
    "> Coluna dth_empenho-------RESULTADO SEM VALORES NULOS"
   ]
  },
  {
   "cell_type": "code",
   "execution_count": null,
   "metadata": {
    "vscode": {
     "languageId": "sql"
    }
   },
   "outputs": [],
   "source": [
    "SELECT COUNT(*) AS total_nulos\n",
    "FROM execucao_financeira_despesa\n",
    "WHERE dth_empenho IS NULL;"
   ]
  },
  {
   "attachments": {},
   "cell_type": "markdown",
   "metadata": {},
   "source": [
    "> Coluna dth_pagamento------- TEM 109765 VALORES NULOS"
   ]
  },
  {
   "cell_type": "code",
   "execution_count": null,
   "metadata": {
    "vscode": {
     "languageId": "sql"
    }
   },
   "outputs": [],
   "source": [
    "SELECT COUNT(*) AS total_nulos\n",
    "FROM execucao_financeira_despesa\n",
    "WHERE dth_pagamento IS NULL;"
   ]
  },
  {
   "attachments": {},
   "cell_type": "markdown",
   "metadata": {},
   "source": [
    "> Coluna dth_liquidacao------- TEM 2025116 VALORES NULOS - SEM VALORES NESSA COLUNA, TOTAL DE NULOS MESMA QUANTIDADE DE LINHA"
   ]
  },
  {
   "cell_type": "code",
   "execution_count": null,
   "metadata": {
    "vscode": {
     "languageId": "sql"
    }
   },
   "outputs": [],
   "source": [
    "SELECT COUNT(*) AS total_nulos\n",
    "FROM execucao_financeira_despesa\n",
    "WHERE dth_liquidacao IS NULL;"
   ]
  },
  {
   "attachments": {},
   "cell_type": "markdown",
   "metadata": {},
   "source": [
    "> Coluna dth_processamento-------RESULTADO SEM VALORES NULOS"
   ]
  },
  {
   "cell_type": "code",
   "execution_count": null,
   "metadata": {
    "vscode": {
     "languageId": "sql"
    }
   },
   "outputs": [],
   "source": [
    "SELECT COUNT(*) AS total_nulos\n",
    "FROM execucao_financeira_despesa\n",
    "WHERE dth_processamento IS NULL;"
   ]
  },
  {
   "attachments": {},
   "cell_type": "markdown",
   "metadata": {},
   "source": [
    "> Coluna num_ano_np------- TEM 109765 VALORES NULOS"
   ]
  },
  {
   "cell_type": "code",
   "execution_count": null,
   "metadata": {
    "vscode": {
     "languageId": "sql"
    }
   },
   "outputs": [],
   "source": [
    "SELECT COUNT(*) AS total_nulos\n",
    "FROM execucao_financeira_despesa\n",
    "WHERE num_ano_np IS NULL;\n",
    "\n"
   ]
  }
 ],
 "metadata": {
  "language_info": {
   "name": "python"
  },
  "orig_nbformat": 4
 },
 "nbformat": 4,
 "nbformat_minor": 2
}
