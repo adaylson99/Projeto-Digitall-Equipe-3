{
 "cells": [
  {
   "attachments": {},
   "cell_type": "markdown",
   "metadata": {},
   "source": [
    "[![texto alt](https://media.licdn.com/dms/image/C4D16AQGD8xrlsWsOCA/profile-displaybackgroundimage-shrink_350_1400/0/1668865864528?e=1692835200&v=beta&t=Xf4IQvk_e_zZru7hFcy7H09wIYpRrjAfYTvgMXJqquc)](https://digitalcollege.com.br)"
   ]
  },
  {
   "attachments": {},
   "cell_type": "markdown",
   "metadata": {},
   "source": [
    "# DASHBOARD DE ANÁLISES DO PROJETO "
   ]
  },
  {
   "attachments": {},
   "cell_type": "markdown",
   "metadata": {},
   "source": [
    "> LINK de acesso ao Dashboard em PowerBi"
   ]
  },
  {
   "attachments": {},
   "cell_type": "markdown",
   "metadata": {},
   "source": [
    "[Dashboard de Análises - Empenhos Governo do Estado do Ceará](https://app.powerbi.com/groups/me/reports/cc6c6b41-5885-4c6f-9b54-30d217691028?ctid=ca76ac1c-cf3f-49e9-b6aa-128bad72b989&pbi_source=linkShare)"
   ]
  },
  {
   "attachments": {},
   "cell_type": "markdown",
   "metadata": {},
   "source": [
    "Criamos um Dashboard onde pudesse ser visualizado os seguintes elementos:"
   ]
  },
  {
   "attachments": {},
   "cell_type": "markdown",
   "metadata": {},
   "source": [
    "> Cartões mostrando os totais de valores: VALOR TOTAL EMPENHO, VALOR TOTAL PAGO E VALOR TOTAL A PAGAR.\n",
    "\n",
    "Esses valores podem ser filtrados por uma segmentação de:\n",
    "\n",
    "- ANO.\n",
    "- POR MEDIDAS DE VALORES EMPENHO, PAGO E A PAGAR."
   ]
  },
  {
   "attachments": {},
   "cell_type": "markdown",
   "metadata": {},
   "source": [
    "> Nos gráficos podem se visualizar:\n",
    "\n",
    "- **GRÁFICO DE PIZZA**: O TOP 5 ITENS ELEMENTOS COM MAIORES VALORES.\n",
    "- **CARTÃO DE LINHA MULTIPLA**: COM OS VALORES POR CATEGORIA.\n",
    "- **UMA TABELA**: COM OS 4 PRINCIPAIS VALORES POR ITEM GRUPO.\n",
    "- **GRÁFICO DE BARRAS**: COM O TOP 10 ORGÃOS COM MAIORES VALORES."
   ]
  },
  {
   "attachments": {},
   "cell_type": "markdown",
   "metadata": {},
   "source": [
    "Ao clicar nas medidas por Valores de Empenho, pago e a pagar, os valores nos gráficos são alterados, mostrando a medida selecionada."
   ]
  },
  {
   "attachments": {},
   "cell_type": "markdown",
   "metadata": {},
   "source": [
    "Pontos de melhorias, seria criar filtros por bimestre e mês."
   ]
  }
 ],
 "metadata": {
  "language_info": {
   "name": "python"
  },
  "orig_nbformat": 4
 },
 "nbformat": 4,
 "nbformat_minor": 2
}
