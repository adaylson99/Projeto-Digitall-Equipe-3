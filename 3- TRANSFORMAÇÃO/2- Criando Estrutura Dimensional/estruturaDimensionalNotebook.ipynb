{
 "cells": [
  {
   "attachments": {},
   "cell_type": "markdown",
   "metadata": {},
   "source": [
    "# **CRIANDO DAS TABELAS DIMENSÕES,FATOS E MÉTRICAS** #"
   ]
  },
  {
   "attachments": {},
   "cell_type": "markdown",
   "metadata": {},
   "source": [
    "**CRIANDO AS TABELAS DIMENSÕES**\n",
    "\n",
    "1. As tabelas dimensões são criadas relacionando a tabela execucao_financeira_despesa------\n",
    "2. Na tabela execucao_financeira_despesa, contém dados NULOS e NEGATIVOS e valores fora dos padrões (minusculo, maiusculo) e duplicados----\n",
    "3. Estamos fazendo o tratamento dos dados na criação das tabelas dim e fato, porque a padronização facilita a filtragem, agrupamento e ordenação dos dados,  facilitando a integração e a interoperabilidade."
   ]
  },
  {
   "attachments": {},
   "cell_type": "markdown",
   "metadata": {},
   "source": [
    "> Tabela de Dimensão de Credor = dim_credor"
   ]
  },
  {
   "cell_type": "code",
   "execution_count": null,
   "metadata": {
    "vscode": {
     "languageId": "sql"
    }
   },
   "outputs": [],
   "source": [
    "----Criação----\n",
    "CREATE TABLE data_warehouse.dim_credor AS\n",
    "SELECT DISTINCT\n",
    "     COALESCE(cod_credor, 'N/A') AS codigo_credor\n",
    "    ,TRIM(UPPER(COALESCE(dsc_nome_credor, 'Não Especificado'))) AS nome_credor\n",
    "FROM public.execucao_financeira_despesa\n",
    "WHERE 1 = 1;\n",
    "\n",
    "---- Consulta-----\n",
    "SELECT *\n",
    "FROM data_warehouse.dim_credor;"
   ]
  },
  {
   "attachments": {},
   "cell_type": "markdown",
   "metadata": {},
   "source": [
    "**OBS** *AQUI NO CREDOR ACONTECE A MESMA SITUAÇÃO DO ORGÃO CODIGO DO CREDOR UNICO, MAIS NA DESCRIÇÃO FOI INCLUSO FORMAS DE ESCRITA DIFERENTES MAIS QUE SÃO O MESMO CREDOR, PARA RESOLVER ISSO DEVE TER UMA PADRONIZAÇÃO DOS NOMES FAZENDO UM UPDATE NA TABELA DIM_ORGAO.*"
   ]
  },
  {
   "attachments": {},
   "cell_type": "markdown",
   "metadata": {},
   "source": [
    "> Tabela de Dimensão de Órgão = dim_orgão"
   ]
  },
  {
   "cell_type": "code",
   "execution_count": null,
   "metadata": {
    "vscode": {
     "languageId": "sql"
    }
   },
   "outputs": [],
   "source": [
    "----Criação----\n",
    "CREATE TABLE data_warehouse.dim_orgao AS\n",
    "SELECT DISTINCT\n",
    "     COALESCE(codigo_orgao, 'N/A') AS codigo_orgao\n",
    "    ,TRIM(UPPER(COALESCE(dsc_orgao, 'Não Especificado'))) AS nome_orgao\n",
    "FROM public.execucao_financeira_despesa\n",
    "WHERE 1 = 1;\n",
    "\n",
    "---- Consulta-----\n",
    "SELECT *\n",
    "FROM data_warehouse.dim_orgao;\n"
   ]
  },
  {
   "attachments": {},
   "cell_type": "markdown",
   "metadata": {},
   "source": [
    "Foi analisado que o código do orgão são iguais mesmo que o nome do orgão tenha uma diferença de escrita, então nas analises deve ser considerado o codigo do orgao, aqui nesse caso estamos fazendo um UPDATE apenas em situações em que existe o código do orgao mais o campo estava nulo, alteramos para não especificado; e quando o nome estava com duas escritas diferentes e o código era o mesmo, vamos deixar padrão e agora vamos alterar para o preenchimeto correto do campo."
   ]
  },
  {
   "cell_type": "code",
   "execution_count": null,
   "metadata": {
    "vscode": {
     "languageId": "sql"
    }
   },
   "outputs": [],
   "source": [
    "-----Usamos essa query para analisar as diferenças----\n",
    "\n",
    "SELECT codigo_orgao, nome_orgao\n",
    "FROM data_warehouse.dim_orgao\n",
    "WHERE codigo_orgao IN (\n",
    "    SELECT codigo_orgao\n",
    "    FROM data_warehouse.dim_orgao\n",
    "    GROUP BY codigo_orgao\n",
    "    HAVING COUNT(*) > 1\n",
    ");\n",
    "\n",
    "SELECT *\n",
    "FROM data_warehouse.dim_credor;\n",
    "\n",
    "----UPDATE------\n",
    "\n",
    "UPDATE data_warehouse.dim_orgao\n",
    "SET nome_orgao = \n",
    "    CASE \n",
    "        WHEN codigo_orgao = '561001' THEN 'FUNDO DE INVESTIMENTOS DO MICROCREDITO PRODUTIVO DO CEARA'\n",
    "        WHEN codigo_orgao = '561101' THEN 'FUNDO DE DEFESA AGROPECUARIA DO ESTADO DO CEARA'\n",
    "        WHEN codigo_orgao = '010101' THEN 'FUNDO DE PREVIDENCIA PARLAMENTAR DA ASSEMBLEIA LEGISLATIVA DO CEARÁ'\n",
    "        WHEN codigo_orgao = '310601' THEN 'FUNDACAO NUCLEO DE TECNOLOGIA E QUALIDADE INDUSTRIAL DO CEARA'\n",
    "        ELSE nome_orgao\n",
    "    END;\n",
    "\n",
    "-----EXCLUINDO REGISTROS DUPLICADOS------\n",
    "\n",
    "DELETE FROM data_warehouse.dim_orgao\n",
    "WHERE codigo_orgao IN (\n",
    "    SELECT codigo_orgao\n",
    "    FROM data_warehouse.dim_orgao\n",
    "    GROUP BY codigo_orgao\n",
    "    HAVING COUNT(*) > 1\n",
    ") AND ctid NOT IN (\n",
    "    SELECT min(ctid)\n",
    "    FROM data_warehouse.dim_orgao\n",
    "    GROUP BY codigo_orgao\n",
    "    HAVING COUNT(*) > 1\n",
    ");"
   ]
  },
  {
   "attachments": {},
   "cell_type": "markdown",
   "metadata": {},
   "source": [
    "> Tabela de Dimensão de Item = dim_item"
   ]
  },
  {
   "cell_type": "code",
   "execution_count": null,
   "metadata": {
    "vscode": {
     "languageId": "sql"
    }
   },
   "outputs": [],
   "source": [
    "----Criação----\n",
    "CREATE TABLE data_warehouse.dim_item AS\n",
    "SELECT DISTINCT\n",
    "     COALESCE(cod_item, 'N/A') AS codigo_item\n",
    "    ,TRIM(UPPER(COALESCE(dsc_item, 'Não Especificado'))) AS descricao_item\n",
    "FROM public.execucao_financeira_despesa\n",
    "WHERE 1 = 1;"
   ]
  },
  {
   "attachments": {},
   "cell_type": "markdown",
   "metadata": {},
   "source": [
    "> Tabela de Dimensão de Item = dim_elemento"
   ]
  },
  {
   "cell_type": "code",
   "execution_count": null,
   "metadata": {
    "vscode": {
     "languageId": "sql"
    }
   },
   "outputs": [],
   "source": [
    "----Criação----\n",
    "CREATE TABLE data_warehouse.dim_elemento AS\n",
    "SELECT DISTINCT\n",
    "     COALESCE(cod_item_elemento, 'N/A') AS codigo_item_elemento\n",
    "    ,TRIM(UPPER(COALESCE(dsc_item_elemento, 'Não Especificado'))) AS descricao_item_elemento\n",
    "FROM public.execucao_financeira_despesa\n",
    "WHERE 1 = 1;\n",
    "\n",
    "---- Consulta-----\n",
    "SELECT *\n",
    "FROM data_warehouse.dim_elemento;"
   ]
  },
  {
   "attachments": {},
   "cell_type": "markdown",
   "metadata": {},
   "source": [
    "> Tabela de Dimensão de Item = dim_categoria"
   ]
  },
  {
   "cell_type": "code",
   "execution_count": null,
   "metadata": {
    "vscode": {
     "languageId": "sql"
    }
   },
   "outputs": [],
   "source": [
    "----Criação----\n",
    "CREATE TABLE data_warehouse.dim_categoria AS\n",
    "SELECT DISTINCT\n",
    "     COALESCE(cod_item_categoria, 'N/A') AS codigo_item_categoria\n",
    "    ,TRIM(UPPER(COALESCE(dsc_item_categoria, 'Não Especificado'))) AS descricao_item_categoria\n",
    "FROM public.execucao_financeira_despesa\n",
    "WHERE 1 = 1;\n",
    "\n",
    "---- Consulta-----\n",
    "SELECT *\n",
    "FROM data_warehouse.dim_categoria;\n",
    "\n",
    "--------PADRONIZANDO-----\n",
    "SELECT codigo_item_categoria, descricao_item_categoria\n",
    "FROM data_warehouse.dim_categoria\n",
    "WHERE codigo_item_categoria IN (\n",
    "    SELECT codigo_item_categoria\n",
    "    FROM data_warehouse.dim_categoria\n",
    "    GROUP BY codigo_item_categoria\n",
    "    HAVING COUNT(*) > 1\n",
    ")\n",
    "ORDER BY codigo_item_categoria ASC;\n",
    "\n",
    "-------UPDATE-------\n",
    "UPDATE data_warehouse.dim_categoria\n",
    "SET descricao_item_categoria = \n",
    "    CASE \n",
    "        WHEN codigo_item_categoria = '3' THEN 'DESPESA CORRENTE'\n",
    "        WHEN codigo_item_categoria = '4' THEN 'DESPESA DE CAPITAL'\n",
    "        ELSE descricao_item_categoria\n",
    "\n",
    "    END;\n",
    "\n",
    "------EXCLUINDO REGISTROS DUPLICADOS----\n",
    "\n",
    "DELETE FROM data_warehouse.dim_categoria\n",
    "WHERE codigo_item_categoria IN (\n",
    "    SELECT codigo_item_categoria\n",
    "    FROM data_warehouse.dim_categoria\n",
    "    GROUP BY codigo_item_categoria\n",
    "    HAVING COUNT(*) > 1\n",
    ") AND ctid NOT IN (\n",
    "    SELECT min(ctid)\n",
    "    FROM data_warehouse.dim_categoria\n",
    "    GROUP BY codigo_item_categoria\n",
    "    HAVING COUNT(*) > 1\n",
    ");"
   ]
  },
  {
   "attachments": {},
   "cell_type": "markdown",
   "metadata": {},
   "source": [
    "> Tabela de Dimensão de Item = dim_grupo"
   ]
  },
  {
   "cell_type": "code",
   "execution_count": null,
   "metadata": {
    "vscode": {
     "languageId": "sql"
    }
   },
   "outputs": [],
   "source": [
    "----Criação----\n",
    "CREATE TABLE data_warehouse.dim_grupo AS\n",
    "SELECT DISTINCT\n",
    "     COALESCE(cod_item_grupo, 'N/A') AS codigo_item_grupo\n",
    "     ,TRIM(UPPER(COALESCE(dsc_item_grupo, 'Não Especificado'))) AS descricao_item_grupo\n",
    "FROM public.execucao_financeira_despesa\n",
    "WHERE 1 = 1;\n",
    "\n",
    "---- Consulta-----\n",
    "SELECT *\n",
    "FROM data_warehouse.dim_grupo;"
   ]
  },
  {
   "attachments": {},
   "cell_type": "markdown",
   "metadata": {},
   "source": [
    "\n",
    "> Tabela de Dimensão de Subfunção = dim_subfuncao"
   ]
  },
  {
   "cell_type": "code",
   "execution_count": null,
   "metadata": {
    "vscode": {
     "languageId": "sql"
    }
   },
   "outputs": [],
   "source": [
    "----Criação----\n",
    "CREATE TABLE data_warehouse.dim_subfuncao AS\n",
    "SELECT DISTINCT\n",
    "    COALESCE(cod_subfuncao, 'N/A') AS codigo_subfuncao\n",
    "   ,TRIM(UPPER(COALESCE(dsc_subfuncao, 'Não Especificado'))) AS descricao_subfuncao\n",
    "FROM public.execucao_financeira_despesa\n",
    "WHERE 1 = 1;\n",
    "\n",
    "---- Consulta-----\n",
    "SELECT *\n",
    "FROM data_warehouse.dim_subfuncao;"
   ]
  },
  {
   "attachments": {},
   "cell_type": "markdown",
   "metadata": {},
   "source": [
    "> Tabela de Dimensão de Programa = dim_programa"
   ]
  },
  {
   "cell_type": "code",
   "execution_count": null,
   "metadata": {
    "vscode": {
     "languageId": "sql"
    }
   },
   "outputs": [],
   "source": [
    "----Criação----\n",
    "CREATE TABLE data_warehouse.dim_programa AS\n",
    "SELECT DISTINCT\n",
    "    COALESCE(cod_programa, 'N/A') AS codigo_programa\n",
    "   ,TRIM(UPPER(COALESCE(dsc_programa, 'Não Especificado'))) AS descricao_programa\n",
    "FROM public.execucao_financeira_despesa\n",
    "WHERE 1 = 1;\n",
    "\n",
    "---- Consulta-----\n",
    "SELECT *\n",
    "FROM data_warehouse.dim_programa;"
   ]
  },
  {
   "attachments": {},
   "cell_type": "markdown",
   "metadata": {},
   "source": [
    "> Tabela de Dimensão de Modalidade de Licitação = dim_modalidade_licitacao"
   ]
  },
  {
   "cell_type": "code",
   "execution_count": null,
   "metadata": {
    "vscode": {
     "languageId": "sql"
    }
   },
   "outputs": [],
   "source": [
    "----Criação----\n",
    "CREATE TABLE data_warehouse.dim_modalidade_licitacao AS\n",
    "SELECT DISTINCT\n",
    "    COALESCE(cod_item_modalidade, 'N/A') AS codigo_item_modalidade\n",
    "   ,TRIM(UPPER(COALESCE(dsc_modalidade_licitacao, 'Não Especificado'))) AS descricao_modalidade_licitacao\n",
    "FROM public.execucao_financeira_despesa\n",
    "WHERE 1 = 1;\n",
    "\n",
    "---- Consulta-----\n",
    "SELECT *\n",
    "FROM data_warehouse.dim_modalidade_licitacao;"
   ]
  },
  {
   "attachments": {},
   "cell_type": "markdown",
   "metadata": {},
   "source": [
    "> Tabela de Dimensão de Função = dim_funcao"
   ]
  },
  {
   "cell_type": "code",
   "execution_count": null,
   "metadata": {
    "vscode": {
     "languageId": "sql"
    }
   },
   "outputs": [],
   "source": [
    "----Criação----\n",
    "CREATE TABLE data_warehouse.dim_funcao AS\n",
    "SELECT DISTINCT\n",
    "     COALESCE(cod_funcao, 'N/A') AS codigo_funcao\n",
    "    ,TRIM(UPPER(COALESCE(dsc_funcao, 'Não Especificado'))) AS descricao_funcao\n",
    "FROM public.execucao_financeira_despesa\n",
    "WHERE 1 = 1;\n",
    "\n",
    "---- Consulta-----\n",
    "SELECT *\n",
    "FROM data_warehouse.dim_funcao;"
   ]
  },
  {
   "attachments": {},
   "cell_type": "markdown",
   "metadata": {},
   "source": [
    "> Tabela de Dimensão de Fonte = dim_fonte"
   ]
  },
  {
   "cell_type": "code",
   "execution_count": null,
   "metadata": {
    "vscode": {
     "languageId": "sql"
    }
   },
   "outputs": [],
   "source": [
    "----Criação----\n",
    "CREATE TABLE data_warehouse.dim_fonte AS\n",
    "SELECT DISTINCT\n",
    "   COALESCE(cod_fonte, 'N/A') AS codigo_fonte\n",
    "  ,TRIM(UPPER(COALESCE(dsc_fonte, 'Não Especificado'))) AS descricao_fonte\n",
    "FROM public.execucao_financeira_despesa\n",
    "WHERE 1 = 1;\n",
    "\n",
    "---- Consulta-----\n",
    "SELECT *\n",
    "FROM data_warehouse.dim_fonte;"
   ]
  },
  {
   "attachments": {},
   "cell_type": "markdown",
   "metadata": {},
   "source": [
    "> Tabela de Dimensão de Número de Processo = dim_numero_processo"
   ]
  },
  {
   "cell_type": "code",
   "execution_count": null,
   "metadata": {
    "vscode": {
     "languageId": "sql"
    }
   },
   "outputs": [],
   "source": [
    "----Criação----\n",
    "CREATE TABLE data_warehouse.dim_numero_processo AS\n",
    "SELECT DISTINCT\n",
    "   COALESCE(cod_np, 'N/A') AS codigo_numero_processo\n",
    "  ,TRIM(UPPER(COALESCE(num_ano_np, 'Não Especificado'))) AS ano_processo\n",
    "FROM public.execucao_financeira_despesa\n",
    "WHERE 1 = 1;\n",
    "\n",
    "---- Consulta-----\n",
    "SELECT *\n",
    "FROM data_warehouse.dim_numero_processo;"
   ]
  },
  {
   "attachments": {},
   "cell_type": "markdown",
   "metadata": {},
   "source": [
    "> **Passo a passo de como criar uma TABELA DIMENSÃO**"
   ]
  },
  {
   "attachments": {},
   "cell_type": "markdown",
   "metadata": {},
   "source": [
    "1. Primeiro usamos a cláusula \"CREATE TABLE\".\n",
    "2. A tabela está sendo preenchida com os resultados da consulta especificada após o \"AS\".\n",
    "3. A consulta começa com a cláusula \"SELECT\", indicando as colunas a serem selecionadas.\n",
    "4. A primeira coluna selecionada é \"COALESCE('coluna', 'N/A') AS 'coluna' \". Aqui, a função \"COALESCE\" é usada para retornar o valor da coluna. Se o valor for nulo, será retornado 'N/A' como um valor alternativo. \n",
    "5. A coluna resultante é renomeada como \"coluna\".\n",
    "6. A próxima coluna é \"TRIM(UPPER(COALESCE('coluna', 'Não Especificado')) AS coluna\". Aqui, a função \"COALESCE\" é usada novamente para retornar o valor da coluna \"num_ano_np\". Se o valor for nulo, será retornado 'Não Especificado' como um valor alternativo. Em seguida, a função a função \"TRIM\" é aplicada para garantir que os espaços em branco sejam eliminados, \"UPPER\" é aplicada para converter o valor para letras maiúsculas. \n",
    "7. A coluna resultante é renomeada como \"coluna\".\n",
    "8. A cláusula \"FROM public.execucao_financeira_despesa\" especifica a tabela da qual queremos obter os dados.\n",
    "9. A cláusula \"WHERE 1 = 1\" é usada para adicionar uma condição de filtro. Neste caso, não há condição específica, então todos os dados serão selecionados.\n",
    "10. Usamos A FUNÇÃO COALESCE ela é útil quando se deseja fornecer um valor alternativo ou substituir valores nulos por algum valor padrão em uma expressão. \n",
    "11. Isso é especialmente útil em consultas e transformações de dados, onde é importante lidar com valores nulos de forma adequada.\n",
    "12. No tratamento de dados, jamais podemos alterar o banco de dados de produção (padrão), por esse motivo essa foi a melhor forma que encontramos de tratar os campos nulos na tabela execucao_financeira_despesa, sem alterar os valores contidos nela.\n",
    "13. Aplicamos o resultado 'N/A, nas colunas correspondentes a códigos, caso estivessem NOT NULL e aplicamos 'Não Especificado' nas colunas que estivessem descrição; E para aproveitar a alteração das colunas NOT NULL, nos campos com TEXT, aplicamos também a função UPPER, que já altera as strings para MAIÚSCULA.\n",
    "14. Criamos as dimensões com os Selects padrões, mesmo que não estivesse um campo nulo ou string fora do padrão, para que na inserção de um novo dado, caso ocorra essa situação a dimensão já consegue ficar dentro do padrão.\n",
    "15. Fizemos algumas padronizações nas tabelas dim_categoria e dim_orgão, como a atualização das descrições com mesmo código e um delete nas informações duplicadas.\n",
    "\n",
    "NOT IN: A cláusula NOT IN é usada para verificar se um valor não está presente em uma lista de valores. No comando fornecido, ela é usada para verificar se o valor da coluna ctid não está presente na subconsulta.\n",
    "\n",
    "min(): A função min() é usada para retornar o valor mínimo de uma coluna. No comando fornecido, é usada na subconsulta para obter o valor mínimo de ctid para cada grupo de codigo_orgao.\n",
    "\n",
    "**OBS**: A query de Delete, conseguimos buscar informações de como fazer na internet, foruns e chats.\n"
   ]
  },
  {
   "attachments": {},
   "cell_type": "markdown",
   "metadata": {},
   "source": [
    "> Tabela de Dimensão de DATA = dim_data"
   ]
  },
  {
   "cell_type": "code",
   "execution_count": null,
   "metadata": {
    "vscode": {
     "languageId": "sql"
    }
   },
   "outputs": [],
   "source": [
    "---------função para alterar os nomes em inglês para português------\n",
    "\n",
    "CREATE OR REPLACE FUNCTION mes_nome_pt(data date)\n",
    "  RETURNS TEXT AS $$\n",
    "DECLARE\n",
    "  meses TEXT[] := ARRAY['Janeiro', 'Fevereiro', 'Marco', 'Abril', 'Maio', 'Junho', 'Julho', 'Agosto', 'Setembro', 'Outubro', 'Novembro', 'Dezembro'];\n",
    "BEGIN\n",
    "  RETURN meses[EXTRACT(MONTH FROM data)];\n",
    "END;\n",
    "$$ LANGUAGE plpgsql;\n",
    "\n",
    "---------depois criar a tabela data---------\n",
    " \n",
    "CREATE TABLE data_warehouse.dim_data AS\n",
    "SELECT DISTINCT \n",
    "       to_date(num_ano::text, 'YYYY')                          AS Data\n",
    "     , EXTRACT(DAY FROM CURRENT_DATE)                          AS Dia\n",
    "     , EXTRACT(WEEK FROM CURRENT_DATE)                         AS Semana\n",
    "     , EXTRACT(MONTH FROM to_date(num_ano::text, 'YYYY'))      AS Mês\n",
    "     , to_char(to_date(num_ano::text, 'YYYY'), 'Month')        AS MêsNome\n",
    "     , CEILING(date_part('month', to_date(num_ano::text, 'YYYY')) / 2.0)::integer AS bimestre\n",
    "     , CEILING(date_part('month', to_date(num_ano::text, 'YYYY')) / 3.0)::integer AS trimestre\n",
    "     , CEILING(date_part('month', to_date(num_ano::text, 'YYYY')) / 6.0)::integer AS semestre\n",
    "     , EXTRACT(YEAR FROM to_date(num_ano::text, 'YYYY'))       AS Ano\n",
    "  FROM public.execucao_financeira_despesa\n",
    " WHERE 1 = 1\n",
    " ORDER BY 1;"
   ]
  },
  {
   "attachments": {},
   "cell_type": "markdown",
   "metadata": {},
   "source": [
    "> **PASSO A PASSO de como criar a DIM_DATA**"
   ]
  },
  {
   "attachments": {},
   "cell_type": "markdown",
   "metadata": {},
   "source": [
    "1. Primeiro executar a função; a função foi feita para alterar na dim data, os meses que trazem resultado em Inglês para português enfatizando que utilizamos a mesma dim_data que trabalhamos em sala de aula, não criamos a função exatamente.\n",
    "2. Primeiro passamos a cláusula \"CREATE TABLE\", no schema data_warehouse com o nome da tabela dim_data.\n",
    "3. A tabela está sendo preenchida com os resultados da consulta especificada após o \"AS\".\n",
    "4. A consulta começa com a cláusula \"SELECT DISTINCT\", indicando que queremos selecionar apenas valores únicos.\n",
    "5. A primeira coluna selecionada é \"to_date(num_ano::text, 'YYYY') AS Data\". Aqui, a função \"to_date\" é usada para converter o valor da coluna \"num_ano\" em um formato de data, especificado como 'YYYY' (ano de quatro dígitos); O resultado é renomeado como \"Data\".\n",
    "6. A próxima coluna é \"EXTRACT(DAY FROM CURRENT_DATE) AS Dia\". Aqui, a função \"EXTRACT\" é usada para extrair o dia atual do \"CURRENT_DATE\" (data atual).\n",
    "7. Em seguida, temos \"EXTRACT(WEEK FROM CURRENT_DATE) AS Semana\". A função \"EXTRACT\" é usada para extrair o número da semana atual do \"CURRENT_DATE\".\n",
    "8. A próxima coluna é \"EXTRACT(MONTH FROM to_date(num_ano::text, 'YYYY')) AS Mês\". Aqui, a função \"EXTRACT\" é usada para extrair o mês da data convertida da coluna \"num_ano\".\n",
    "9. A coluna \"to_char(to_date(num_ano::text, 'YYYY'), 'Month') AS MêsNome\" usa a função \"to_char\" para converter a data em formato \n",
    "10. de mês por extenso (ex: \"January\", \"February\").\n",
    "11. As colunas \"bimestre\", \"trimestre\" e \"semestre\" são calculadas usando a função \"CEILING\" e \"date_part\". \n",
    "12. Elas dividem o mês extraído anteriormente por 2, 3 e 6, respectivamente, e arredondam para cima.\n",
    "13. A coluna \"EXTRACT(YEAR FROM to_date(num_ano::text, 'YYYY')) AS Ano\" extrai o ano da data convertida da coluna \"num_ano\".\n",
    "14. A cláusula \"FROM public.execucao_financeira_despesa\" especifica a tabela da qual queremos obter os dados."
   ]
  },
  {
   "attachments": {},
   "cell_type": "markdown",
   "metadata": {},
   "source": [
    "# **CRIANDO A TABELA FATO** #"
   ]
  },
  {
   "cell_type": "code",
   "execution_count": null,
   "metadata": {
    "vscode": {
     "languageId": "sql"
    }
   },
   "outputs": [],
   "source": [
    "-- Tabela de Fato Empenho = fato_empenho\n",
    "\n",
    "CREATE TABLE data_warehouse.fato_empenho AS\n",
    "SELECT DISTINCT ON (codigo_empenho, ano_cadastro, codigo_credor, codigo_orgao)\n",
    "    COALESCE(cod_ne, 'N/A') AS codigo_empenho,\n",
    "    num_ano AS ano_cadastro,\n",
    "    COALESCE(cod_credor, 'N/A') AS codigo_credor,\n",
    "    COALESCE(codigo_orgao,'N/A') AS codigo_orgao,\n",
    "    COALESCE(cod_np, 'N/A') AS codigo_numero_processo,\n",
    "    COALESCE(cod_fonte, 'N/A') AS codigo_fonte,\n",
    "    COALESCE(cod_funcao, 'N/A') AS codigo_funcao,\n",
    "    COALESCE(cod_item_modalidade, 'N/A') AS codigo_item_modalidade,\n",
    "    COALESCE(cod_programa, 'N/A') AS codigo_programa,\n",
    "    COALESCE(cod_subfuncao, 'N/A') AS codigo_subfuncao,\n",
    "    COALESCE(cod_item_grupo, 'N/A') AS codigo_item_grupo,\n",
    "    COALESCE(cod_item_categoria, 'N/A') AS codigo_item_categoria,\n",
    "    COALESCE(cod_item_elemento, 'N/A') AS codigo_item_elemento,\n",
    "    COALESCE(cod_item, 'N/A') AS codigo_item,\n",
    "    vlr_empenho AS valor_empenho,\n",
    "    CASE\n",
    "        WHEN valor_pago = vlr_empenho THEN valor_pago\n",
    "        ELSE COALESCE(vlr_liquidado, 0.00)\n",
    "    END AS valor_liquidado,\n",
    "    COALESCE(valor_pago, 0.00) AS valor_pago,\n",
    "    COALESCE(vlr_empenho - valor_pago, 0.00) AS valor_resto_a_pagar,\n",
    "    dth_empenho AS data_empenho,\n",
    "    dth_liquidacao AS data_liquidacao,\n",
    "    dth_pagamento AS data_pagamento,\n",
    "    dth_processamento AS data_processamento,\n",
    "    COALESCE(num_sic, 'N/A') AS numero_identificacao_financeiro,\n",
    "    CONCAT(num_ano::text, COALESCE(cod_ne, 'N/A'), COALESCE(codigo_orgao, 'N/A'), COALESCE(cod_credor, 'N/A')) AS id_fato_empenho\n",
    "FROM public.execucao_financeira_despesa\n",
    "WHERE 1 = 1;\n",
    "\n",
    "\n",
    "-- Fazendo alteração na coluna data_liquidacao, para preencher com valores obedecendo a condição----\n",
    "\n",
    "UPDATE data_warehouse.fato_empenho\n",
    "SET data_liquidacao = data_pagamento\n",
    "WHERE valor_liquidado > 0.00;\n",
    "\n",
    "-- Fazendo alteração na coluna valor_empenho, para preencher apenas com os valores positivos----\n",
    "\n",
    "UPDATE data_warehouse.fato_empenho\n",
    "SET valor_empenho = 0.00\n",
    "WHERE valor_empenho < 0.00;\n",
    "\n",
    "-- Fazendo alteração na coluna valor_resto_a_pagar, para preencher com os valores do fato empenho, que tenha valor liquidado e pago igual a 0.\n",
    "---Ele vai levar o mesmo valor do empenho para preencher o campo valor_resto_a_pagar.\n",
    "\n",
    "UPDATE data_warehouse.fato_empenho\n",
    "SET valor_resto_a_pagar = valor_empenho\n",
    "WHERE valor_liquidado = 0.00 AND valor_pago = 0.00;\n",
    "\n",
    "--Fazendo alteração na valor_resto_a_pagar, considerando a lógica de que quando o valor quando o (valor empenho - valor pagar) for um resultado negativo, \n",
    "--preencher o campo resto a pagar com 0.00 \n"
   ]
  },
  {
   "attachments": {},
   "cell_type": "markdown",
   "metadata": {},
   "source": [
    "> Passo a Passo da criação da TABELA FATO EMPENHO"
   ]
  },
  {
   "attachments": {},
   "cell_type": "markdown",
   "metadata": {},
   "source": [
    "A tabela **fato_empenho** foi criada a partir de uma consulta na tabela **execucao_financeira_despesa** com algumas transformações nos dados. \n",
    "\n",
    "**Criação da tabela:** A instrução CREATE TABLE data_warehouse.fato_empenho AS cria a tabela fato_empenho no esquema data_warehouse com base no resultado da consulta.\n",
    "\n",
    "**Distinct On:** A cláusula DISTINCT ON é usada para retornar apenas um registro distinto para cada combinação única dos campos especificados. No caso do comando fornecido, os campos codigo_empenho, ano_cadastro, codigo_credor e codigo_orgao são utilizados para determinar a distinção.\n",
    "\n",
    "**COALESCE:** A função COALESCE é usada para substituir valores nulos por um valor alternativo. No comando fornecido, as colunas cod_ne, cod_credor, codigo_orgao, cod_np, cod_fonte, cod_funcao, cod_item_modalidade, cod_programa, cod_subfuncao, cod_item_grupo, cod_item_categoria, cod_item_elemento e cod_item são tratadas com COALESCE para substituir valores nulos por 'N/A'.\n",
    "\n",
    "**Alias e seleção de colunas:** A instrução AS é usada para fornecer aliases (apelidos) para as colunas selecionadas na consulta. Os aliases são usados para atribuir nomes mais descritivos às colunas resultantes. As colunas selecionadas incluem as transformações descritas e também algumas colunas que são copiadas diretamente da tabela original.\n",
    "\n",
    "**CASE:** A cláusula CASE é usada para realizar avaliações condicionais e retornar valores com base nas condições especificadas. No comando fornecido, é utilizado um CASE para determinar o valor da coluna valor_liquidado. Se o valor da coluna valor_pago for igual a vlr_empenho, então o valor de valor_pago é retornado. Caso contrário, é retornado o valor de vlr_liquidado (se não for nulo) ou 0.00.\n",
    "\n",
    "**WHERE 1=1:** Essa condição WHERE 1=1 é um truque comum usado para permitir a adição de cláusulas de filtro adicionais de forma mais fácil. Neste caso, essa condição não afeta o resultado da consulta.\n",
    "\n",
    "**CONCAT:** A função CONCAT é utilizada para concatenar valores de diferentes colunas ou strings em uma única string. Aqui contatenamos os códigos das tabelas, dim_ano, dim_codigo, dim_orgao e dim_credor. A criação do id_empenho é para retirar as informações duplicadas.\n",
    "\n",
    ">Após a criação da tabela, são executadas algumas instruções UPDATE para fazer alterações nos dados já inseridos na tabela fato_empenho.\n",
    "\n",
    "**Atualização da coluna data_liquidacao:** A instrução **UPDATE** modifica os valores da coluna data_liquidacao para serem iguais aos valores da coluna data_pagamento quando o valor da coluna valor_liquidado é maior que 0.00.\n",
    "\n",
    "**Atualização da coluna valor_empenho:** A instrução UPDATE modifica os valores da coluna valor_empenho para serem 0.00 quando o valor original é menor que 0.00.\n",
    "\n",
    "**Atualização da coluna valor_resto_a_pagar:** A instrução UPDATE modifica os valores da coluna valor_resto_a_pagar para serem iguais aos valores da coluna valor_empenho quando tanto o valor da coluna valor_liquidado quanto o valor da coluna valor_pago são iguais a 0.00.\n",
    "\n",
    "**Atualização da coluna valor_resto_a_pagar com lógica adicional:** A instrução UPDATE modifica os valores da coluna valor_resto_a_pagar para serem 0.00 quando a diferença entre valor_empenho e valor_pago for negativa, ou seja, quando (valor_empenho - valor_pago) é menor que 0.00."
   ]
  },
  {
   "cell_type": "markdown",
   "metadata": {},
   "source": []
  }
 ],
 "metadata": {
  "language_info": {
   "name": "python"
  },
  "orig_nbformat": 4
 },
 "nbformat": 4,
 "nbformat_minor": 2
}
