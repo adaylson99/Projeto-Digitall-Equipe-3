{
 "cells": [
  {
   "attachments": {},
   "cell_type": "markdown",
   "metadata": {},
   "source": [
    "# **FAZENDO ANALISES DA DATA_WAREHOUSE** #"
   ]
  },
  {
   "attachments": {},
   "cell_type": "markdown",
   "metadata": {},
   "source": [
    "> ANALISES OBRIGATÓRIAS PARA TODAS AS EQUIPES"
   ]
  },
  {
   "attachments": {},
   "cell_type": "markdown",
   "metadata": {},
   "source": [
    "**TOTAIS GERAIS EMPENHO**"
   ]
  },
  {
   "cell_type": "code",
   "execution_count": null,
   "metadata": {
    "vscode": {
     "languageId": "sql"
    }
   },
   "outputs": [],
   "source": [
    "SELECT SUM(valor_empenho) AS valor_total_empenho\n",
    "FROM data_warehouse.fato_empenho;\n",
    "-----Valor total dos EMPENHOS: 119014954965.29"
   ]
  },
  {
   "attachments": {},
   "cell_type": "markdown",
   "metadata": {},
   "source": [
    "**TOTAIS GERAIS VALOR PAGO**"
   ]
  },
  {
   "cell_type": "code",
   "execution_count": null,
   "metadata": {
    "vscode": {
     "languageId": "sql"
    }
   },
   "outputs": [],
   "source": [
    "SELECT SUM(valor_pago) AS valor_total_pago\n",
    "FROM data_warehouse.fato_empenho;\n",
    "-----Valor total que já foi pago dos EMPENHOS:58195195710,95"
   ]
  },
  {
   "attachments": {},
   "cell_type": "markdown",
   "metadata": {},
   "source": [
    "**TOTAIS GERAIS A PAGAR**"
   ]
  },
  {
   "cell_type": "code",
   "execution_count": null,
   "metadata": {
    "vscode": {
     "languageId": "sql"
    }
   },
   "outputs": [],
   "source": [
    "SELECT SUM(valor_resto_a_pagar) AS valor_resto_a_pagar\n",
    "FROM data_warehouse.fato_empenho; \n",
    "-----Valor total que já foi pago dos EMPENHOS:60828731139,57"
   ]
  },
  {
   "attachments": {},
   "cell_type": "markdown",
   "metadata": {},
   "source": [
    "Consultando a diferença no valor resto a pagar, conforme colunas abaixo:\n",
    "\n",
    "Se calcularmos valor empenho - valor pago, vai totalizar o valor de 60828731139,57 , sendo que o resultado da coluna, Valor resto a pagar está totalizando 60819759254,34, o que era para ser o valor exatamente igual do cálculo anterior.\n",
    "\n",
    "A diferença se dar por que existem linhas em que o valor do empenho é menor que o valor pago, gerando um líquido negativo.\n",
    "\n",
    "No resultado de resto a pagar, como fizemos o tratamento para não incluir números negativos no tratamento da fato_empenho, esse resultado aparece divergente.\n",
    "O fato de não deixarmos o valor negativo em resto a pagar, é por que o resultado total trará o valor errado, por que ele vai estar diminuindo, do valor total, o que pode levar a entender que o valor que falta a pagar seja um valor menor.\n"
   ]
  },
  {
   "cell_type": "code",
   "execution_count": null,
   "metadata": {
    "vscode": {
     "languageId": "sql"
    }
   },
   "outputs": [],
   "source": [
    "---USAMOS ESSA CONSULTA PARA DESCOBRIR A DIFERENÇA---\n",
    "\n",
    "SELECT\n",
    "    ano_cadastro,\n",
    "    valor_resto_a_pagar,\n",
    "    valor_empenho,\n",
    "    valor_pago,\n",
    "    (valor_empenho - valor_pago) AS valor_diferença_total_resto_a_pagar\n",
    "FROM\n",
    "    data_warehouse.fato_empenho\n",
    "WHERE\n",
    "    valor_resto_a_pagar <> (valor_empenho - valor_pago)\n",
    "\n",
    "UNION ALL\n",
    "\n",
    "SELECT\n",
    "    'Total' AS ano_cadastro,\n",
    "    SUM(valor_resto_a_pagar) AS valor_resto_a_pagar,\n",
    "    SUM(valor_empenho) AS valor_empenho,\n",
    "    SUM(valor_pago) AS valor_pago,\n",
    "    SUM(valor_empenho - valor_pago) AS valor_diferença_total_resto_a_pagar\n",
    "FROM\n",
    "    data_warehouse.fato_empenho\n",
    "WHERE\n",
    "    valor_resto_a_pagar <> (valor_empenho - valor_pago);\n",
    "-----Valor total que já de diferença no valor resto a pagar: 8971885,23"
   ]
  },
  {
   "attachments": {},
   "cell_type": "markdown",
   "metadata": {},
   "source": [
    "Essa consulta irá retornar os registros em que o \"valor_resto_a_pagar\" é diferente da diferença entre \"valor_empenho\" e \"valor_pago\", e também incluirá uma linha adicional no final que mostra a soma total dos valores nessas colunas. A linha adicional terá \"Total\" como valor para a coluna \"ano_cadastro\"."
   ]
  },
  {
   "attachments": {},
   "cell_type": "markdown",
   "metadata": {},
   "source": [
    "# **ANALISES OBRIGATÓRIAS DA EQUIPE 3** #"
   ]
  },
  {
   "attachments": {},
   "cell_type": "markdown",
   "metadata": {},
   "source": [
    "> **Análise por Orgão:** Total Empenho, Total Pago e Total A Pagar"
   ]
  },
  {
   "cell_type": "code",
   "execution_count": null,
   "metadata": {
    "vscode": {
     "languageId": "sql"
    }
   },
   "outputs": [],
   "source": [
    "-- Total por ano\n",
    "SELECT\n",
    "    ano_cadastro,\n",
    "    codigo_orgao,\n",
    "    SUM(valor_empenho) AS soma_valor_empenho,\n",
    "    SUM(valor_pago) AS soma_valor_pago,\n",
    "    SUM(valor_resto_a_pagar) AS soma_valor_a_pagar\n",
    "FROM\n",
    "    data_warehouse.fato_empenho\n",
    "GROUP BY\n",
    "    ano_cadastro,\n",
    "    codigo_orgao;"
   ]
  },
  {
   "cell_type": "code",
   "execution_count": null,
   "metadata": {
    "vscode": {
     "languageId": "sql"
    }
   },
   "outputs": [],
   "source": [
    "-- Total por bimestre\n",
    "SELECT\n",
    "    ano_cadastro,\n",
    "    codigo_orgao,\n",
    "    FLOOR((EXTRACT(MONTH FROM dth_empenho) - 1) / 2) + 1 AS bimestre,\n",
    "    SUM(valor_empenho) AS soma_valor_empenho,\n",
    "    SUM(valor_pago) AS soma_valor_pago,\n",
    "    SUM(valor_resto_a_pagar) AS soma_valor_a_pagar\n",
    "FROM\n",
    "    data_warehouse.fato_empenho\n",
    "GROUP BY\n",
    "    ano_cadastro,\n",
    "    codigo_orgao,\n",
    "    bimestre;"
   ]
  },
  {
   "cell_type": "code",
   "execution_count": null,
   "metadata": {
    "vscode": {
     "languageId": "sql"
    }
   },
   "outputs": [],
   "source": [
    "-- Total por mês\n",
    "SELECT\n",
    "    ano_cadastro,\n",
    "    codigo_orgao,\n",
    "    EXTRACT(MONTH FROM dth_empenho) AS mes,\n",
    "    SUM(valor_empenho) AS soma_valor_empenho,\n",
    "    SUM(valor_pago) AS soma_valor_pago,\n",
    "    SUM(valor_resto_a_pagar) AS soma_valor_a_pagar\n",
    "FROM\n",
    "    data_warehouse.fato_empenho\n",
    "GROUP BY\n",
    "    ano_cadastro,\n",
    "    codigo_orgao,\n",
    "    mes;"
   ]
  },
  {
   "attachments": {},
   "cell_type": "markdown",
   "metadata": {},
   "source": [
    "> **Análise por item_elemento:**  Total Empenho, Total Pago e Total A Pagar"
   ]
  },
  {
   "cell_type": "code",
   "execution_count": null,
   "metadata": {
    "vscode": {
     "languageId": "sql"
    }
   },
   "outputs": [],
   "source": [
    "-- Total por ano\n",
    "SELECT\n",
    "    ano_cadastro,\n",
    "    codigo_item_elemento,\n",
    "    SUM(valor_empenho) AS soma_valor_empenho,\n",
    "    SUM(valor_pago) AS soma_valor_pago,\n",
    "    SUM(valor_resto_a_pagar) AS soma_valor_a_pagar\n",
    "FROM\n",
    "    data_warehouse.fato_empenho\n",
    "GROUP BY\n",
    "    ano_cadastro,\n",
    "    codigo_item_elemento;\n",
    ";"
   ]
  },
  {
   "cell_type": "code",
   "execution_count": null,
   "metadata": {
    "vscode": {
     "languageId": "sql"
    }
   },
   "outputs": [],
   "source": [
    "-- Total por bimestre\n",
    "SELECT\n",
    "    ano_cadastro,\n",
    "    codigo_item_elemento,\n",
    "    FLOOR((EXTRACT(MONTH FROM data_empenho) - 1) / 2) + 1 AS bimestre,\n",
    "    SUM(valor_empenho) AS soma_valor_empenho,\n",
    "    SUM(valor_pago) AS soma_valor_pago,\n",
    "    SUM(valor_resto_a_pagar) AS soma_valor_a_pagar\n",
    "FROM\n",
    "    data_warehouse.fato_empenho\n",
    "GROUP BY\n",
    "    ano_cadastro,\n",
    "    codigo_item_elemento,\n",
    "    bimestre;"
   ]
  },
  {
   "cell_type": "code",
   "execution_count": null,
   "metadata": {
    "vscode": {
     "languageId": "sql"
    }
   },
   "outputs": [],
   "source": [
    "-- Total por mes\n",
    "SELECT\n",
    "    ano_cadastro,\n",
    "    codigo_item_elemento,\n",
    "    EXTRACT(MONTH FROM data_empenho) AS mes,\n",
    "    SUM(valor_empenho) AS soma_valor_empenho,\n",
    "    SUM(valor_pago) AS soma_valor_pago,\n",
    "    SUM(valor_resto_a_pagar) AS soma_valor_a_pagar\n",
    "FROM\n",
    "    data_warehouse.fato_empenho\n",
    "GROUP BY\n",
    "    ano_cadastro,\n",
    "    codigo_item_elemento,\n",
    "    mes;"
   ]
  },
  {
   "attachments": {},
   "cell_type": "markdown",
   "metadata": {},
   "source": [
    "> **Análise por Item Categoria:** Total Empenho, Total Pago e Total A Pagar"
   ]
  },
  {
   "cell_type": "code",
   "execution_count": null,
   "metadata": {
    "vscode": {
     "languageId": "sql"
    }
   },
   "outputs": [],
   "source": [
    "-- Total por ano\n",
    "SELECT\n",
    "    ano_cadastro,\n",
    "    codigo_item_categoria,\n",
    "    SUM(valor_empenho) AS soma_valor_empenho,\n",
    "    SUM(valor_pago) AS soma_valor_pago,\n",
    "    SUM(valor_resto_a_pagar) AS soma_valor_a_pagar\n",
    "FROM\n",
    "    data_warehouse.fato_empenho\n",
    "GROUP BY\n",
    "    ano_cadastro,\n",
    "    codigo_item_categoria;"
   ]
  },
  {
   "cell_type": "code",
   "execution_count": null,
   "metadata": {
    "vscode": {
     "languageId": "sql"
    }
   },
   "outputs": [],
   "source": [
    "-- Total por bimestre\n",
    "SELECT\n",
    "    ano_cadastro,\n",
    "    codigo_item_categoria,\n",
    "    FLOOR((EXTRACT(MONTH FROM data_empenho) - 1) / 2) + 1 AS bimestre,\n",
    "    SUM(valor_empenho) AS soma_valor_empenho,\n",
    "    SUM(valor_pago) AS soma_valor_pago,\n",
    "    SUM(valor_resto_a_pagar) AS soma_valor_a_pagar\n",
    "FROM\n",
    "    data_warehouse.fato_empenho\n",
    "GROUP BY\n",
    "    ano_cadastro,\n",
    "    codigo_item_categoria,\n",
    "    bimestre;"
   ]
  },
  {
   "cell_type": "code",
   "execution_count": null,
   "metadata": {
    "vscode": {
     "languageId": "sql"
    }
   },
   "outputs": [],
   "source": [
    "-- Total por mes\n",
    "SELECT\n",
    "    ano_cadastro,\n",
    "    codigo_item_categoria,\n",
    "    EXTRACT(MONTH FROM data_empenho) AS mes,\n",
    "    SUM(valor_empenho) AS soma_valor_empenho,\n",
    "    SUM(valor_pago) AS soma_valor_pago,\n",
    "    SUM(valor_resto_a_pagar) AS soma_valor_a_pagar\n",
    "FROM\n",
    "    data_warehouse.fato_empenho\n",
    "GROUP BY\n",
    "    ano_cadastro,\n",
    "    codigo_item_categoria,\n",
    "    mes;"
   ]
  },
  {
   "attachments": {},
   "cell_type": "markdown",
   "metadata": {},
   "source": [
    "> **Análise por Item Grupo:** Total Empenho, Total Pago e Total A Pagar"
   ]
  },
  {
   "cell_type": "code",
   "execution_count": null,
   "metadata": {
    "vscode": {
     "languageId": "sql"
    }
   },
   "outputs": [],
   "source": [
    "-- Total por ano\n",
    "SELECT\n",
    "    ano_cadastro,\n",
    "    codigo_item_grupo,\n",
    "    SUM(valor_empenho) AS soma_valor_empenho,\n",
    "    SUM(valor_pago) AS soma_valor_pago,\n",
    "    SUM(valor_resto_a_pagar) AS soma_valor_a_pagar\n",
    "FROM\n",
    "    data_warehouse.fato_empenho\n",
    "GROUP BY\n",
    "    ano_cadastro,\n",
    "    codigo_item_grupo;"
   ]
  },
  {
   "cell_type": "code",
   "execution_count": null,
   "metadata": {
    "vscode": {
     "languageId": "sql"
    }
   },
   "outputs": [],
   "source": [
    "-- Total por bimestre\n",
    "SELECT\n",
    "    ano_cadastro,\n",
    "    codigo_item_grupo,\n",
    "    FLOOR((EXTRACT(MONTH FROM data_empenho) - 1) / 2) + 1 AS bimestre,\n",
    "    SUM(valor_empenho) AS soma_valor_empenho,\n",
    "    SUM(valor_pago) AS soma_valor_pago,\n",
    "    SUM(valor_resto_a_pagar) AS soma_valor_a_pagar\n",
    "FROM\n",
    "    data_warehouse.fato_empenho\n",
    "GROUP BY\n",
    "    ano_cadastro,\n",
    "    codigo_item_grupo,\n",
    "    bimestre;"
   ]
  },
  {
   "cell_type": "code",
   "execution_count": null,
   "metadata": {
    "vscode": {
     "languageId": "sql"
    }
   },
   "outputs": [],
   "source": [
    "-- Total por mes\n",
    "SELECT\n",
    "    ano_cadastro,\n",
    "    codigo_item_grupo,\n",
    "    EXTRACT(MONTH FROM data_empenho) AS mes,\n",
    "    SUM(valor_empenho) AS soma_valor_empenho,\n",
    "    SUM(valor_pago) AS soma_valor_pago,\n",
    "    SUM(valor_resto_a_pagar) AS soma_valor_a_pagar\n",
    "FROM\n",
    "    data_warehouse.fato_empenho\n",
    "GROUP BY\n",
    "    ano_cadastro,\n",
    "    codigo_item_grupo,\n",
    "    mes;"
   ]
  },
  {
   "attachments": {},
   "cell_type": "markdown",
   "metadata": {},
   "source": [
    "> **INSIGHTS ADICIONAIS**"
   ]
  },
  {
   "attachments": {},
   "cell_type": "markdown",
   "metadata": {},
   "source": [
    "> Valor empenhado, liquidado e pago por ano e mês:\n",
    "\n",
    "**Explicação:** Esse insight permite visualizar a evolução dos valores empenhados, liquidados e pagos ao longo dos meses e anos, fornecendo uma compreensão dos padrões de gastos ao longo do tempo."
   ]
  },
  {
   "cell_type": "code",
   "execution_count": null,
   "metadata": {
    "vscode": {
     "languageId": "sql"
    }
   },
   "outputs": [],
   "source": [
    "SELECT\n",
    "    EXTRACT(YEAR FROM data_empenho) AS ano,\n",
    "    EXTRACT(MONTH FROM data_empenho) AS mes,\n",
    "    SUM(CASE WHEN valor_empenho >= 0 THEN valor_empenho ELSE 0 END) AS total_empenho,\n",
    "    SUM(valor_liquidado) AS total_liquidado,\n",
    "    SUM(valor_pago) AS total_pago\n",
    "FROM (\n",
    "    SELECT id_fato_empenho, data_empenho, valor_empenho, valor_liquidado, valor_pago\n",
    "    FROM data_warehouse.fato_empenho\n",
    "    WHERE valor_empenho >= 0\n",
    "    GROUP BY id_fato_empenho, data_empenho, valor_empenho, valor_liquidado, valor_pago\n",
    "    HAVING COUNT(*) = 1\n",
    ") AS f\n",
    "GROUP BY EXTRACT(YEAR FROM data_empenho), EXTRACT(MONTH FROM data_empenho)\n",
    "ORDER BY EXTRACT(YEAR FROM data_empenho), EXTRACT(MONTH FROM data_empenho);"
   ]
  },
  {
   "attachments": {},
   "cell_type": "markdown",
   "metadata": {},
   "source": [
    "> Valor empenhado, liquidado e pago por item grupo e categoria em um determinado período:\n",
    "\n",
    "**Explicação:** Esse insight permite analisar os valores empenhados, liquidados e pagos agrupados por item grupo e categoria em um período específico, fornecendo informações sobre os principais grupos e categorias de despesas, tive que colocar um limitador por que a consulta fica muito lenta."
   ]
  },
  {
   "cell_type": "code",
   "execution_count": null,
   "metadata": {
    "vscode": {
     "languageId": "sql"
    }
   },
   "outputs": [],
   "source": [
    "SELECT\n",
    "    f.codigo_item_grupo,\n",
    "    g.descricao_item_grupo,\n",
    "    f.codigo_item_categoria,\n",
    "    c.descricao_item_categoria,\n",
    "    SUM(f.valor_empenho) AS total_empenho,\n",
    "    SUM(f.valor_liquidado) AS total_liquidado,\n",
    "    SUM(f.valor_pago) AS total_pago\n",
    "FROM (\n",
    "    SELECT id_fato_empenho, codigo_item_grupo, codigo_item_categoria, valor_empenho, valor_liquidado, valor_pago\n",
    "    FROM data_warehouse.fato_empenho\n",
    "    WHERE valor_empenho >= 0\n",
    "    GROUP BY id_fato_empenho, codigo_item_grupo, codigo_item_categoria, valor_empenho, valor_liquidado, valor_pago\n",
    "    HAVING COUNT(*) = 1\n",
    ") AS f\n",
    "JOIN data_warehouse.dim_grupo g ON f.codigo_item_grupo = g.codigo_item_grupo\n",
    "JOIN data_warehouse.dim_categoria c ON f.codigo_item_categoria = c.codigo_item_categoria\n",
    "JOIN data_warehouse.fato_empenho fe ON f.id_fato_empenho = fe.id_fato_empenho\n",
    "WHERE fe.data_empenho BETWEEN '2022-01-01' AND '2022-12-31' -- Período desejado\n",
    "GROUP BY f.codigo_item_grupo, g.descricao_item_grupo, f.codigo_item_categoria, c.descricao_item_categoria\n",
    "LIMIT 2;"
   ]
  },
  {
   "attachments": {},
   "cell_type": "markdown",
   "metadata": {},
   "source": [
    "> Valor empenhado, liquidado e pago por item elemento em um determinado período:\n",
    "\n",
    "**Explicação:** Esse insight permite analisar os valores empenhados, liquidados e pagos para cada item elemento específico em um período selecionado, ajudando a identificar os principais itens de despesa."
   ]
  },
  {
   "cell_type": "code",
   "execution_count": null,
   "metadata": {
    "vscode": {
     "languageId": "sql"
    }
   },
   "outputs": [],
   "source": [
    "SELECT\n",
    "    f.codigo_item_elemento,\n",
    "    e.descricao_item_elemento,\n",
    "    SUM(f.valor_empenho) AS total_empenho,\n",
    "    SUM(f.valor_liquidado) AS total_liquidado,\n",
    "    SUM(f.valor_pago) AS total_pago\n",
    "FROM (\n",
    "    SELECT id_fato_empenho, codigo_item_elemento, valor_empenho, valor_liquidado, valor_pago\n",
    "    FROM data_warehouse.fato_empenho\n",
    "    WHERE valor_empenho >= 0\n",
    "    GROUP BY id_fato_empenho, codigo_item_elemento, valor_empenho, valor_liquidado, valor_pago\n",
    "    HAVING COUNT(*) = 1\n",
    ") AS f\n",
    "JOIN data_warehouse.dim_elemento e ON f.codigo_item_elemento = e.codigo_item_elemento\n",
    "JOIN data_warehouse.fato_empenho fe ON f.id_fato_empenho = fe.id_fato_empenho\n",
    "WHERE fe.data_empenho BETWEEN '2022-01-01' AND '2022-12-31' -- Período desejado\n",
    "GROUP BY f.codigo_item_elemento, e.descricao_item_elemento;"
   ]
  },
  {
   "attachments": {},
   "cell_type": "markdown",
   "metadata": {},
   "source": [
    "> Um **insight interessante e diferente** relacionado à tabela fato_empenho é a análise da taxa de valores que falta pagar em relação ao valor empenhado, agrupada por órgão e ano. Isso pode fornecer informações sobre a eficiência na execução orçamentária de cada órgão em diferentes anos."
   ]
  },
  {
   "cell_type": "code",
   "execution_count": null,
   "metadata": {
    "vscode": {
     "languageId": "sql"
    }
   },
   "outputs": [],
   "source": [
    "SELECT\n",
    "    f.codigo_orgao,\n",
    "    o.nome_orgao,\n",
    "    EXTRACT(YEAR FROM f.data_empenho) AS ano,\n",
    "    COUNT(CASE WHEN f.valor_empenho - f.valor_pago > 0 THEN 1 END) AS empenhos_com_resto_pagar,\n",
    "    COUNT(*) AS total_empenhos,\n",
    "    CONCAT(ROUND(COUNT(CASE WHEN f.valor_empenho - f.valor_pago > 0 THEN 1 END) * 100.0 / COUNT(*), 2), '%') AS taxa_resto_a_pagar\n",
    "FROM (\n",
    "    SELECT\n",
    "        codigo_orgao,\n",
    "        data_empenho,\n",
    "        EXTRACT(YEAR FROM data_empenho) AS ano,\n",
    "        SUM(valor_empenho - valor_pago) AS soma_valor_a_pagar_total\n",
    "    FROM (\n",
    "        SELECT id_fato_empenho, codigo_orgao, data_empenho, valor_empenho, valor_pago\n",
    "        FROM data_warehouse.fato_empenho\n",
    "        WHERE valor_empenho >= 0\n",
    "        GROUP BY id_fato_empenho, codigo_orgao, data_empenho, valor_empenho, valor_pago\n",
    "        HAVING COUNT(*) = 1\n",
    "    ) AS subquery\n",
    "    GROUP BY codigo_orgao, data_empenho\n",
    ") AS subquery\n",
    "JOIN data_warehouse.dim_orgao o ON subquery.codigo_orgao = o.codigo_orgao\n",
    "JOIN data_warehouse.fato_empenho f ON subquery.codigo_orgao = f.codigo_orgao AND subquery.data_empenho = f.data_empenho\n",
    "GROUP BY f.codigo_orgao, o.nome_orgao, EXTRACT(YEAR FROM f.data_empenho);"
   ]
  }
 ],
 "metadata": {
  "language_info": {
   "name": "python"
  },
  "orig_nbformat": 4
 },
 "nbformat": 4,
 "nbformat_minor": 2
}
