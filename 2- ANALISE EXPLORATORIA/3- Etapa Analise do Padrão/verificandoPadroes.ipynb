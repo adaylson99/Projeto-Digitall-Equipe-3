{
 "cells": [
  {
   "attachments": {},
   "cell_type": "markdown",
   "metadata": {},
   "source": [
    "# VERIFICANDO PADRÕES"
   ]
  },
  {
   "attachments": {},
   "cell_type": "markdown",
   "metadata": {},
   "source": [
    "## **Verificando a soma dos valores das colunas de pagamento**"
   ]
  },
  {
   "attachments": {},
   "cell_type": "markdown",
   "metadata": {},
   "source": [
    "> **Nessa etapa iremos verificar os valores contidos nas colunas de pagamento, para ter uma visão geral do banco de dados.**"
   ]
  },
  {
   "attachments": {},
   "cell_type": "markdown",
   "metadata": {},
   "source": [
    "**Fazer uma análise dos valores contidos na tabela, é importante por vários motivos:**\n",
    "\n",
    "**Verificação da integridade dos dados:** Ao analisar os valores nas tabelas, é possível identificar se existem valores inconsistentes, como valores negativos onde deveriam ser positivos, valores nulos onde não deveriam ser, ou valores que excedem limites pré-definidos. Essa verificação ajuda a garantir a integridade dos dados armazenados no banco de dados.\n",
    "\n",
    "**Identificação de discrepâncias e erros:** Ao realizar cálculos e análises nos valores das tabelas, é possível identificar discrepâncias, erros ou inconsistências nos dados. Por exemplo, se a soma de uma coluna que deveria representar um valor total não corresponder ao valor esperado, pode indicar um problema nos dados ou nos processos de entrada de dados.\n",
    "\n",
    "**Estatísticas e métricas:** Analisar os valores nas tabelas pode fornecer estatísticas e métricas importantes sobre os dados.\n",
    "Por exemplo, ao calcular a soma total de um determinado campo, você pode obter informações sobre o total acumulado de valores em uma tabela. \n",
    "Isso pode ser útil para análises financeiras, relatórios de desempenho, previsões e outras análises estatísticas.\n",
    "\n",
    "**Verificação de consistência entre tabelas:** Ao comparar valores entre diferentes tabelas ou colunas, é possível identificar discrepâncias ou inconsistências nos dados. Por exemplo, se houver uma tabela de pedidos e uma tabela de pagamentos, você pode verificar se os valores totais dos pagamentos correspondem aos valores totais dos pedidos para garantir a consistência entre os dados.\n",
    "\n",
    "**Validação de resultados:** Ao realizar cálculos complexos ou agregações nos valores das tabelas, é importante validar os resultados para garantir sua precisão. Fazer análises de valores permite que você verifique se os resultados obtidos estão corretos e de acordo com as expectativas.\n"
   ]
  },
  {
   "cell_type": "code",
   "execution_count": null,
   "metadata": {
    "vscode": {
     "languageId": "sql"
    }
   },
   "outputs": [],
   "source": [
    "----Aqui estamos somando todos os valores da COLUNA VLR_EMPENHO\n",
    "SELECT SUM(vlr_empenho) AS valor_total_empenhado\n",
    "FROM public.execucao_financeira_despesa; ----RESULTADO - 1337468033892.24\n",
    "---------------------------------------------------------------------------------------------------\n",
    "\n",
    "----Aqui estamos somando todos os valores da COLUNA VALOR_PAGO\n",
    "SELECT SUM(valor_pago) AS valor_pago\n",
    "FROM public.execucao_financeira_despesa; ---- RESULTADO - 105003461100.25\n",
    "---------------------------------------------------------------------------------------------------\n",
    "\n",
    "----Aqui estamos somando calculando o resultado da coluna de empenho meno o valor que foi pago, que deveria dar o resultado igual a coluna\n",
    "----valor resto a pagar\n",
    "SELECT SUM(vlr_empenho - valor_pago) AS resultado\n",
    "FROM public.execucao_financeira_despesa; ----- RESULTADO - 1224865353889.77 \n",
    "--OBS: Valor correto da operação se você fizer no excel ou calculadora daria 1232464572791.99. Diferença de: 7.599.218.902,22.\n",
    "---------------------------------------------------------------------------------------------------\n",
    "\n",
    "----Aqui estamos somando calculando o resultado da coluna valor resto a pagar, que deveria ser o resultado do empenho - valor pago.\n",
    "SELECT SUM(vlr_resto_pagar) AS vlr_resto_pagar\n",
    "FROM public.execucao_financeira_despesa; -----RESULTADO - 4000097535,35 \n",
    "--OBS: O valor esta diferente se pegar o (vlr_empenho - valor_pago), existem colunas sem valores, mesmo constando valores pagos, por isso a discrepância.\n",
    "---------------------------------------------------------------------------------------------------\n",
    "\n",
    "----Aqui estamos somando calculando o resultado da coluna liquidado, o que retorna zero, por que não existe valores.\n",
    "SELECT SUM(vlr_liquidado) AS vlr_liquidado\n",
    "FROM public.execucao_financeira_despesa; ---- RESULTADO - 0\n",
    "--OBS: O resultado dessa coluna seria com a seguinte lógica, se o valor do empenho for igual ao valor pago, significa que o empenho foi liquidado.\n"
   ]
  }
 ],
 "metadata": {
  "language_info": {
   "name": "python"
  },
  "orig_nbformat": 4
 },
 "nbformat": 4,
 "nbformat_minor": 2
}
